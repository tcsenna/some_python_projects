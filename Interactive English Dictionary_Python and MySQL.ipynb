{
 "cells": [
  {
   "cell_type": "code",
   "execution_count": 1,
   "metadata": {},
   "outputs": [],
   "source": [
    "import mysql.connector #abaixo, host é o ip do servidor que tem o banco de dados\n",
    "from difflib import get_close_matches\n",
    "import collections"
   ]
  },
  {
   "cell_type": "code",
   "execution_count": 2,
   "metadata": {},
   "outputs": [],
   "source": [
    "con=mysql.connector.connect(user='ardit700_student',\n",
    "                           password='ardit700_student',\n",
    "                           host='108.167.140.122', \n",
    "                           database='ardit700_pm1database'\n",
    "                           )\n",
    "#isto é só uma conexão. preciso arrumar um jeito de fazer queries "
   ]
  },
  {
   "cell_type": "markdown",
   "metadata": {},
   "source": [
    "Antes de estabelecer uma conexão, defino um cursor para navegar pela tabela do meu banco de dados."
   ]
  },
  {
   "cell_type": "code",
   "execution_count": 3,
   "metadata": {},
   "outputs": [],
   "source": [
    "cursor=con.cursor()\n",
    "query=cursor.execute(\"SELECT * FROM Dictionary\")\n",
    "results=cursor.fetchall()"
   ]
  },
  {
   "cell_type": "code",
   "execution_count": 4,
   "metadata": {},
   "outputs": [],
   "source": [
    "col = collections.defaultdict(list) #coleçao de {'palavra':[signif1,signif2,signif3]}\n",
    "lista_nova=[]\n",
    "for a,b in results:\n",
    "    lista_nova.append((a,[b]))\n",
    "for a,b in lista_nova:\n",
    "    col[a].extend(b)"
   ]
  },
  {
   "cell_type": "code",
   "execution_count": 5,
   "metadata": {},
   "outputs": [
    {
     "data": {
      "text/plain": [
       "['The whole of the different elements of a company organ.',\n",
       " 'Something built up of distinct parts.',\n",
       " 'To give structure to.']"
      ]
     },
     "execution_count": 5,
     "metadata": {},
     "output_type": "execute_result"
    }
   ],
   "source": [
    "col['structure']"
   ]
  },
  {
   "cell_type": "code",
   "execution_count": 6,
   "metadata": {},
   "outputs": [
    {
     "name": "stdout",
     "output_type": "stream",
     "text": [
      "Digite uma palavra em inglês: structure\n",
      "The whole of the different elements of a company organ.\n",
      "Something built up of distinct parts.\n",
      "To give structure to.\n"
     ]
    }
   ],
   "source": [
    "def translate(word):\n",
    "    word=str(word) #LISTAREI TODAS AS POSSIBILIDADES QUE UMA PALAVRA PODE ESTAR NO DICIONÁRIO\n",
    "    word1=word.lower() # EX:water\n",
    "    word2=word.title() #EX: Paris\n",
    "    word3=word.upper() #EX: USA\n",
    "    if word1 in col:\n",
    "        signif=col[word1]\n",
    "        return '\\n'.join(signif)\n",
    "    elif word2 in col:\n",
    "        return '\\n'.join(col[word.title()])\n",
    "    elif word3 in col: #in case user enters words like USA or NATO\n",
    "        return '\\n'.join(col[word.upper()])\n",
    "    elif get_close_matches(word,col.keys()) != []:\n",
    "        a=get_close_matches(word,col.keys())\n",
    "        testar=input('Será que você não quis dizer {}? Digite Sim ou Não.\\n'.format(a[0]))\n",
    "        if testar=='Sim':\n",
    "            \n",
    "            return '\\n'.join(col[a[0]])\n",
    "        else:\n",
    "            return 'Não entendi sua palavra.'\n",
    "    else:\n",
    "        return ('Revise sua palavra, ela não existe!')\n",
    "word=input('Digite uma palavra em inglês: ')\n",
    "print(translate(word))"
   ]
  },
  {
   "cell_type": "code",
   "execution_count": 7,
   "metadata": {},
   "outputs": [
    {
     "name": "stdout",
     "output_type": "stream",
     "text": [
      "Será que você não quis dizer acid? Digite Sim ou Não.\n",
      "Sim\n",
      "A compound capable of transferring a hydrogen ion in solution.\n",
      "Being harsh or corrosive in tone.\n",
      "Having an acid, sharp or tangy taste.\n",
      "A powerful hallucinogenic drug manufactured from lysergic acid.\n",
      "Having a pH less than 7, or being sour, or having the strength to neutralize  alkalis, or turning a litmus paper red.\n"
     ]
    }
   ],
   "source": [
    "print(translate('aacid')) #escrevi errado de propósito"
   ]
  },
  {
   "cell_type": "code",
   "execution_count": 8,
   "metadata": {},
   "outputs": [
    {
     "name": "stdout",
     "output_type": "stream",
     "text": [
      "Será que você não quis dizer jury? Digite Sim ou Não.\n",
      "Não\n",
      "Não entendi sua palavra.\n"
     ]
    }
   ],
   "source": [
    "print(translate('jr'))"
   ]
  },
  {
   "cell_type": "code",
   "execution_count": 9,
   "metadata": {},
   "outputs": [
    {
     "name": "stdout",
     "output_type": "stream",
     "text": [
      "An international organization created in 1949 by the North Atlantic Treaty for purposes of collective security.\n"
     ]
    }
   ],
   "source": [
    "print(translate('Nato')) #o correto é NATO mas ele entendeu mesmo assim"
   ]
  },
  {
   "cell_type": "code",
   "execution_count": 10,
   "metadata": {},
   "outputs": [
    {
     "name": "stdout",
     "output_type": "stream",
     "text": [
      "A country and federal republic in North America located north of Mexico and south of Canada, including Alaska, Hawaii and overseas territories.\n"
     ]
    }
   ],
   "source": [
    "print(translate('uSa'))"
   ]
  },
  {
   "cell_type": "code",
   "execution_count": 11,
   "metadata": {},
   "outputs": [
    {
     "name": "stdout",
     "output_type": "stream",
     "text": [
      "Será que você não quis dizer obtain? Digite Sim ou Não.\n",
      "Não\n",
      "Não entendi sua palavra.\n"
     ]
    }
   ],
   "source": [
    "print(translate('Motnain'))"
   ]
  },
  {
   "cell_type": "code",
   "execution_count": 12,
   "metadata": {},
   "outputs": [
    {
     "name": "stdout",
     "output_type": "stream",
     "text": [
      "Revise sua palavra, ela não existe!\n"
     ]
    }
   ],
   "source": [
    "print(translate('jjjjjjjjjjjjjjjjjjj'))"
   ]
  },
  {
   "cell_type": "code",
   "execution_count": 13,
   "metadata": {},
   "outputs": [
    {
     "name": "stdout",
     "output_type": "stream",
     "text": [
      "Será que você não quis dizer 2º? Digite Sim ou Não.\n",
      "Sim\n",
      "The abbreviation for folio, a book size.\n"
     ]
    }
   ],
   "source": [
    "print(translate(2)) #ele transforma para string e procura"
   ]
  }
 ],
 "metadata": {
  "kernelspec": {
   "display_name": "Python 3",
   "language": "python",
   "name": "python3"
  },
  "language_info": {
   "codemirror_mode": {
    "name": "ipython",
    "version": 3
   },
   "file_extension": ".py",
   "mimetype": "text/x-python",
   "name": "python",
   "nbconvert_exporter": "python",
   "pygments_lexer": "ipython3",
   "version": "3.7.3"
  }
 },
 "nbformat": 4,
 "nbformat_minor": 2
}
