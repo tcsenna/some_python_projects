{
 "cells": [
  {
   "cell_type": "markdown",
   "metadata": {},
   "source": [
    "# Thonia's Numpy Studies"
   ]
  },
  {
   "cell_type": "markdown",
   "metadata": {},
   "source": [
    "[http://cs231n.github.io/python-numpy-tutorial/#numpy]"
   ]
  },
  {
   "cell_type": "code",
   "execution_count": 15,
   "metadata": {},
   "outputs": [],
   "source": [
    "import numpy as np"
   ]
  },
  {
   "cell_type": "code",
   "execution_count": 16,
   "metadata": {},
   "outputs": [
    {
     "data": {
      "text/plain": [
       "array([ 0,  1,  2,  3,  4,  5,  6,  7,  8,  9, 10, 11, 12, 13, 14])"
      ]
     },
     "execution_count": 16,
     "metadata": {},
     "output_type": "execute_result"
    }
   ],
   "source": [
    "n=np.arange(15)\n",
    "n"
   ]
  },
  {
   "cell_type": "code",
   "execution_count": 17,
   "metadata": {},
   "outputs": [
    {
     "name": "stdout",
     "output_type": "stream",
     "text": [
      "<class 'numpy.ndarray'>\n",
      "[[ 0  1  2  3  4]\n",
      " [ 5  6  7  8  9]\n",
      " [10 11 12 13 14]]\n",
      "(15,)\n"
     ]
    }
   ],
   "source": [
    "print(type(n))\n",
    "print(n.reshape(3,5)) #inplace!\n",
    "print(n.shape) #voltou ao que era antes! precisaria redefinir!"
   ]
  },
  {
   "cell_type": "code",
   "execution_count": 18,
   "metadata": {},
   "outputs": [
    {
     "name": "stdout",
     "output_type": "stream",
     "text": [
      "[1 2 3]\n",
      "(3,)\n",
      "1 3\n",
      "[6 2 3]\n"
     ]
    }
   ],
   "source": [
    "a=np.array([1,2,3])\n",
    "print(a)\n",
    "print(a.shape)\n",
    "print(a[0],a[2])\n",
    "a[0]=6 # Change an element of the array\n",
    "print(a)"
   ]
  },
  {
   "cell_type": "code",
   "execution_count": 19,
   "metadata": {},
   "outputs": [
    {
     "name": "stdout",
     "output_type": "stream",
     "text": [
      "(2, 3)\n",
      "[[ 1  3  4]\n",
      " [99  2  1]] [99  2  1] [1 3 4]\n",
      "[2 1]\n"
     ]
    },
    {
     "data": {
      "text/plain": [
       "array([[ 0,  1,  2,  3,  4,  5],\n",
       "       [ 6,  7,  8,  9, 10, 11],\n",
       "       [12, 13, 14, 15, 16, 17],\n",
       "       [18, 19, 20, 21, 22, 23]])"
      ]
     },
     "execution_count": 19,
     "metadata": {},
     "output_type": "execute_result"
    }
   ],
   "source": [
    "b=np.array([[1,3,4],[99,2,1]])\n",
    "print(b.shape)\n",
    "print(b, b[1], b[0]) #b[1] é a segunda linha na verdade... \n",
    "print(b[1,1:]) #here's how you can slice/index\n",
    "b2=np.arange(24)\n",
    "b2=b2.reshape(4,6)\n",
    "b2"
   ]
  },
  {
   "cell_type": "code",
   "execution_count": 20,
   "metadata": {},
   "outputs": [
    {
     "data": {
      "text/plain": [
       "array([[ 8,  9, 10],\n",
       "       [14, 15, 16]])"
      ]
     },
     "execution_count": 20,
     "metadata": {},
     "output_type": "execute_result"
    }
   ],
   "source": [
    "b2[1:3,2:5]"
   ]
  },
  {
   "cell_type": "code",
   "execution_count": 21,
   "metadata": {},
   "outputs": [
    {
     "name": "stdout",
     "output_type": "stream",
     "text": [
      "[[0. 0.]\n",
      " [0. 0.]\n",
      " [0. 0.]\n",
      " [0. 0.]\n",
      " [0. 0.]]\n",
      "[[1. 1. 1. 1. 1. 1. 1.]]\n",
      "[[8 8 8 8 8]\n",
      " [8 8 8 8 8]]\n",
      "[[1. 0. 0. 0. 0.]\n",
      " [0. 1. 0. 0. 0.]\n",
      " [0. 0. 1. 0. 0.]\n",
      " [0. 0. 0. 1. 0.]\n",
      " [0. 0. 0. 0. 1.]]\n",
      "[[0.80614983 0.18507925]\n",
      " [0.00689301 0.73320506]]\n"
     ]
    }
   ],
   "source": [
    "a4=np.zeros((5,2))\n",
    "b5= np.ones((1,7))\n",
    "c6=np.full((2,5),8)\n",
    "d7=np.eye(5)\n",
    "e8 = np.random.random((2,2))  # Create an array filled with random values\n",
    "print(a4)\n",
    "print(b5)\n",
    "print(c6)\n",
    "print(d7)\n",
    "print(e8)"
   ]
  },
  {
   "cell_type": "markdown",
   "metadata": {},
   "source": [
    "## Deveria ser a mesma coisa embaixo, mas não é!\n",
    "## Mixing integer indexing with slices yields an array of lower rank,  while using only slices yields an array of the same rank as the original array:\n",
    "## Melhor não misturar integer indexing with slices!!!  A saída eu achei mais elegante e coerente."
   ]
  },
  {
   "cell_type": "code",
   "execution_count": 22,
   "metadata": {
    "scrolled": true
   },
   "outputs": [
    {
     "name": "stdout",
     "output_type": "stream",
     "text": [
      "[0. 1. 0. 0. 0.] (5,)\n",
      "[[0. 1. 0. 0. 0.]] (1, 5)\n",
      "[0. 0. 1. 0. 0.] (5,)\n",
      "[[0.]\n",
      " [0.]\n",
      " [1.]\n",
      " [0.]\n",
      " [0.]] (5, 1)\n"
     ]
    }
   ],
   "source": [
    "d7_1=d7[1,:] #a linha toda\n",
    "d7_1.shape\n",
    "d7_2=d7[1:2, :] #a linha toda tb\n",
    "d7_2.shape\n",
    "print(d7_1,d7_1.shape)\n",
    "print(d7_2,d7_2.shape)\n",
    "d7_c=d7[:,2]\n",
    "print(d7_c,d7_c.shape)\n",
    "d7_c2=d7[:, 2:3]\n",
    "print(d7_c2,d7_c2.shape)"
   ]
  },
  {
   "cell_type": "code",
   "execution_count": 23,
   "metadata": {},
   "outputs": [
    {
     "name": "stdout",
     "output_type": "stream",
     "text": [
      "[[1 2]\n",
      " [3 4]\n",
      " [5 6]]\n",
      "[1 4 5]\n"
     ]
    }
   ],
   "source": [
    "a = np.array([[1,2], [3, 4], [5, 6]])\n",
    "print(a)\n",
    "print(a[[0, 1, 2], [0, 1, 0]])"
   ]
  },
  {
   "cell_type": "markdown",
   "metadata": {},
   "source": [
    "### Fazer isso que acabei de fazer acima equivale a fazer:\n",
    "```python\n",
    "print(np.array([a[0, 0], a[1, 1], a[2, 0]]))\n",
    "```\n",
    "### Veja que legal isso:"
   ]
  },
  {
   "cell_type": "code",
   "execution_count": 24,
   "metadata": {},
   "outputs": [
    {
     "name": "stdout",
     "output_type": "stream",
     "text": [
      "[2 2]\n",
      "[2 2]\n"
     ]
    }
   ],
   "source": [
    "# When using integer array indexing, you can reuse the same\n",
    "# element from the source array:\n",
    "print(a[[0, 0], [1, 1]])  # Prints \"[2 2]\"\n",
    "# Equivalent to the previous integer array indexing example\n",
    "print(np.array([a[0, 1], a[0, 1]]))  # Prints \"[2 2]\""
   ]
  },
  {
   "cell_type": "code",
   "execution_count": 25,
   "metadata": {},
   "outputs": [
    {
     "name": "stdout",
     "output_type": "stream",
     "text": [
      "<class 'list'>\n"
     ]
    }
   ],
   "source": [
    "#pay attention to this:\n",
    "arr1=[3,4,5,6,7]\n",
    "print(type(arr1))"
   ]
  },
  {
   "cell_type": "code",
   "execution_count": 26,
   "metadata": {},
   "outputs": [
    {
     "name": "stdout",
     "output_type": "stream",
     "text": [
      "<class 'numpy.ndarray'>\n"
     ]
    }
   ],
   "source": [
    "#now things change...\n",
    "narr1=np.array(arr1)\n",
    "print(type(narr1)) #repare que é narr1 e não arr1\n",
    "#becomes a np.ndarray object, que vamos trabalhar aqui em ver as diferentes funções que podemos implementar nesse objeto\n",
    "#isso inclui desde operacoes aritmeticas basicas até sistemas de equacoes lineares e estatistica bascia"
   ]
  },
  {
   "cell_type": "markdown",
   "metadata": {},
   "source": [
    "Numpy is an n dim array object or ndarray  \n",
    "provides a fast and efficient way of storing homogeneous data  \n",
    "we can have nd array w/ 1 dimension or 1 row and these are rank 1 arrays  \n",
    "or we can have multidimensional arrays with more than one row [[row1, row2],[row3,row4]]"
   ]
  },
  {
   "cell_type": "code",
   "execution_count": 27,
   "metadata": {},
   "outputs": [
    {
     "name": "stdout",
     "output_type": "stream",
     "text": [
      "<class 'list'>\n",
      "[[1, 2, 3, 4], [3, 4, 5, 6]]\n"
     ]
    }
   ],
   "source": [
    "# multidimensional array\n",
    "\n",
    "arr2=[[1,2,3,4],[3,4,5,6]]\n",
    "print(type(arr2))\n",
    "print(arr2)"
   ]
  },
  {
   "cell_type": "code",
   "execution_count": 28,
   "metadata": {},
   "outputs": [
    {
     "name": "stdout",
     "output_type": "stream",
     "text": [
      "<class 'numpy.ndarray'>\n",
      "[[1 2 3 4]\n",
      " [3 4 5 6]]\n"
     ]
    }
   ],
   "source": [
    "narr2=np.array(arr2)\n",
    "print(type(narr2))\n",
    "print(narr2)"
   ]
  },
  {
   "cell_type": "code",
   "execution_count": 29,
   "metadata": {},
   "outputs": [
    {
     "name": "stdout",
     "output_type": "stream",
     "text": [
      "[[1 2 3 4]\n",
      " [3 4 5 6]\n",
      " [7 8 9 6]]\n"
     ]
    }
   ],
   "source": [
    "arr3=[[1,2,3,4],[3,4,5,6],[7,8,9,6]]\n",
    "narr3=np.array(arr3)\n",
    "print(narr3)\n",
    "#multidimensional arrays w/ 3 rows and full cols"
   ]
  },
  {
   "cell_type": "code",
   "execution_count": 30,
   "metadata": {},
   "outputs": [
    {
     "name": "stdout",
     "output_type": "stream",
     "text": [
      "(3, 4)\n"
     ]
    }
   ],
   "source": [
    "print(narr3.shape)"
   ]
  },
  {
   "cell_type": "code",
   "execution_count": 31,
   "metadata": {},
   "outputs": [
    {
     "name": "stdout",
     "output_type": "stream",
     "text": [
      "[[5 5]\n",
      " [5 5]]\n"
     ]
    }
   ],
   "source": [
    "#2*2 constant arrays\n",
    "\n",
    "full=np.full((2,2),5)\n",
    "\n",
    "print(full)"
   ]
  },
  {
   "cell_type": "markdown",
   "metadata": {},
   "source": [
    "a[start:end] vai do item 0 até o item (end-1)  \n",
    "a[start:] vai do item 0 até o último item  \n",
    "a[:end] vai do item 0 até o item (end-1)  \n",
    "a[:] é uma cópia do array inteiro  "
   ]
  },
  {
   "cell_type": "code",
   "execution_count": 32,
   "metadata": {},
   "outputs": [
    {
     "name": "stdout",
     "output_type": "stream",
     "text": [
      "[11  8  2  2  6  8  4]\n"
     ]
    }
   ],
   "source": [
    "#concatenate two numpy arrays\n",
    "\n",
    "x=np.array([2,6,8,4])\n",
    "\n",
    "y=np.array([11,8,2])\n",
    "\n",
    "z=np.concatenate([y,x])\n",
    "\n",
    "print(z)"
   ]
  },
  {
   "cell_type": "code",
   "execution_count": 33,
   "metadata": {},
   "outputs": [
    {
     "name": "stdout",
     "output_type": "stream",
     "text": [
      "[[ 1  2  3]\n",
      " [ 4  5  6]\n",
      " [ 7  8  9]\n",
      " [10 11 12]]\n"
     ]
    }
   ],
   "source": [
    "a = np.array([[1,2,3], [4,5,6], [7,8,9], [10, 11, 12]])\n",
    "print(a)\n",
    "b = np.array([0, 2, 0, 1])\n"
   ]
  },
  {
   "cell_type": "code",
   "execution_count": 34,
   "metadata": {},
   "outputs": [
    {
     "data": {
      "text/plain": [
       "array([ 1,  6,  7, 11])"
      ]
     },
     "execution_count": 34,
     "metadata": {},
     "output_type": "execute_result"
    }
   ],
   "source": [
    "a[np.arange(4),b]\n",
    "#equivale a: a[[0,1,2,3],[0,2,0,1]]- pares x,y"
   ]
  },
  {
   "cell_type": "code",
   "execution_count": 35,
   "metadata": {},
   "outputs": [
    {
     "name": "stdout",
     "output_type": "stream",
     "text": [
      "[[10 11 12]\n",
      " [ 7  8  9]\n",
      " [ 4  5  6]\n",
      " [ 1  2  3]]\n"
     ]
    }
   ],
   "source": [
    "#reverse the order\n",
    "k=np.array(a[::-1])\n",
    "print(k)"
   ]
  },
  {
   "cell_type": "code",
   "execution_count": 36,
   "metadata": {},
   "outputs": [
    {
     "name": "stdout",
     "output_type": "stream",
     "text": [
      "[[ 1  2  3  4]\n",
      " [ 3  4  5  6]\n",
      " [ 7  8  9  6]\n",
      " [12  7 10  9]\n",
      " [ 2 11  8 10]]\n"
     ]
    }
   ],
   "source": [
    "##Multi-dimensional array operations\n",
    "arr=[[1,2,3,4],[3,4,5,6],[7,8,9,6],[12,7,10,9],[2,11,8,10]]\n",
    "\n",
    "narr=np.array(arr) #convert array into numpy array\n",
    "\n",
    "print (narr)"
   ]
  },
  {
   "cell_type": "code",
   "execution_count": 37,
   "metadata": {},
   "outputs": [
    {
     "name": "stdout",
     "output_type": "stream",
     "text": [
      "[1 2 3 4]\n"
     ]
    }
   ],
   "source": [
    "print(narr[0]) #print first row at row index 0\n"
   ]
  },
  {
   "cell_type": "code",
   "execution_count": 38,
   "metadata": {},
   "outputs": [
    {
     "name": "stdout",
     "output_type": "stream",
     "text": [
      "[12  7 10  9]\n"
     ]
    }
   ],
   "source": [
    "print(narr[3])"
   ]
  },
  {
   "cell_type": "code",
   "execution_count": 39,
   "metadata": {},
   "outputs": [
    {
     "name": "stdout",
     "output_type": "stream",
     "text": [
      "6\n",
      "10\n"
     ]
    }
   ],
   "source": [
    "print(narr[2,3]) #print contents of row with index 2 and column with index 3 [row,columm]\n",
    "print(narr[3,2])"
   ]
  },
  {
   "cell_type": "code",
   "execution_count": 40,
   "metadata": {},
   "outputs": [
    {
     "name": "stdout",
     "output_type": "stream",
     "text": [
      "[[ 1  2  3  4]\n",
      " [ 3  4  5  6]\n",
      " [ 7  8  9  6]\n",
      " [12  7  0  9]\n",
      " [ 2 11  8 10]]\n"
     ]
    }
   ],
   "source": [
    "narr[3,2]=0 #replace value at a location\n",
    "print (narr)"
   ]
  },
  {
   "cell_type": "code",
   "execution_count": 41,
   "metadata": {},
   "outputs": [
    {
     "name": "stdout",
     "output_type": "stream",
     "text": [
      "[ 2 11  8 10]\n"
     ]
    }
   ],
   "source": [
    "#get the last row\n",
    "print(narr[-1])"
   ]
  },
  {
   "cell_type": "code",
   "execution_count": 42,
   "metadata": {},
   "outputs": [
    {
     "name": "stdout",
     "output_type": "stream",
     "text": [
      "<class 'numpy.ndarray'>\n"
     ]
    }
   ],
   "source": [
    "#get the last row\n",
    "print(type(narr[-1]))"
   ]
  },
  {
   "cell_type": "code",
   "execution_count": 43,
   "metadata": {},
   "outputs": [
    {
     "name": "stdout",
     "output_type": "stream",
     "text": [
      "[12  7  0  9]\n",
      "[[5 6]\n",
      " [9 6]\n",
      " [0 9]]\n"
     ]
    }
   ],
   "source": [
    "#get the 2nd last\n",
    "print(narr[-2])\n",
    "# print rows and columns\n",
    "\n",
    "print(narr[1:4,2:5]) #rows: 1 to 4-1 and columns 2 to 5-1"
   ]
  },
  {
   "cell_type": "markdown",
   "metadata": {},
   "source": [
    "## Repare que se a gente extrapolar os índices, ele não reclama!"
   ]
  },
  {
   "cell_type": "code",
   "execution_count": 44,
   "metadata": {},
   "outputs": [
    {
     "name": "stdout",
     "output_type": "stream",
     "text": [
      "[[ 5  6]\n",
      " [ 9  6]\n",
      " [ 0  9]\n",
      " [ 8 10]]\n"
     ]
    }
   ],
   "source": [
    "# print rows and columns\n",
    "\n",
    "print(narr[1:9,2:8]) #rows: 1 to 4-1 and columns 2 to 5-1\n",
    "#it doesn't complain if we extrapolate indexes!!!!!!!!"
   ]
  },
  {
   "cell_type": "code",
   "execution_count": 45,
   "metadata": {},
   "outputs": [
    {
     "name": "stdout",
     "output_type": "stream",
     "text": [
      "[[1 2]\n",
      " [3 4]\n",
      " [5 6]]\n"
     ]
    }
   ],
   "source": [
    "###concatenation row and column wise\n",
    "\n",
    "a = np.array([[1, 2], [3, 4]])\n",
    "b = np.array([[5, 6]])\n",
    "\n",
    "#concatenate row wise \n",
    "\n",
    "c=np.concatenate((a, b))\n",
    "\n",
    "print(c)"
   ]
  },
  {
   "cell_type": "markdown",
   "metadata": {},
   "source": [
    "## Indexação Booleana \n",
    "Boolean array indexing lets you pick out arbitrary elements of an array. Frequently this type of indexing is used to select the elements of an array that satisfy some condition. Here is an example:"
   ]
  },
  {
   "cell_type": "code",
   "execution_count": 46,
   "metadata": {},
   "outputs": [],
   "source": [
    "a = np.array([[1,2,0.1,80.1], [60, 3, 4,50.1], [2,85,5, 6],[39,39.9,40.1,45]])"
   ]
  },
  {
   "cell_type": "code",
   "execution_count": 47,
   "metadata": {},
   "outputs": [
    {
     "ename": "ValueError",
     "evalue": "The truth value of an array with more than one element is ambiguous. Use a.any() or a.all()",
     "output_type": "error",
     "traceback": [
      "\u001b[1;31m---------------------------------------------------------------------------\u001b[0m",
      "\u001b[1;31mValueError\u001b[0m                                Traceback (most recent call last)",
      "\u001b[1;32m<ipython-input-47-536acc2ae6ac>\u001b[0m in \u001b[0;36m<module>\u001b[1;34m\u001b[0m\n\u001b[1;32m----> 1\u001b[1;33m \u001b[0mbool_idx\u001b[0m \u001b[1;33m=\u001b[0m \u001b[1;33m(\u001b[0m\u001b[0ma\u001b[0m \u001b[1;33m<\u001b[0m\u001b[1;36m3\u001b[0m \u001b[1;32mor\u001b[0m \u001b[0ma\u001b[0m\u001b[1;33m>\u001b[0m\u001b[1;36m40\u001b[0m\u001b[1;33m)\u001b[0m\u001b[1;33m\u001b[0m\u001b[1;33m\u001b[0m\u001b[0m\n\u001b[0m",
      "\u001b[1;31mValueError\u001b[0m: The truth value of an array with more than one element is ambiguous. Use a.any() or a.all()"
     ]
    }
   ],
   "source": [
    "bool_idx = (a <3 or a>40) "
   ]
  },
  {
   "cell_type": "code",
   "execution_count": 48,
   "metadata": {},
   "outputs": [
    {
     "ename": "IndexError",
     "evalue": "only integers, slices (`:`), ellipsis (`...`), numpy.newaxis (`None`) and integer or boolean arrays are valid indices",
     "output_type": "error",
     "traceback": [
      "\u001b[1;31m---------------------------------------------------------------------------\u001b[0m",
      "\u001b[1;31mIndexError\u001b[0m                                Traceback (most recent call last)",
      "\u001b[1;32m<ipython-input-48-f1d7f17c3485>\u001b[0m in \u001b[0;36m<module>\u001b[1;34m\u001b[0m\n\u001b[0;32m      1\u001b[0m \u001b[0msel\u001b[0m\u001b[1;33m=\u001b[0m\u001b[1;33m[\u001b[0m\u001b[1;32mlambda\u001b[0m \u001b[0mx\u001b[0m\u001b[1;33m:\u001b[0m \u001b[0mx\u001b[0m\u001b[1;33m>\u001b[0m\u001b[1;36m3\u001b[0m \u001b[1;32mfor\u001b[0m \u001b[0mx\u001b[0m \u001b[1;32min\u001b[0m \u001b[0mlist\u001b[0m\u001b[1;33m(\u001b[0m\u001b[0ma\u001b[0m\u001b[1;33m.\u001b[0m\u001b[0mshape\u001b[0m\u001b[1;33m)\u001b[0m\u001b[1;33m]\u001b[0m\u001b[1;33m\u001b[0m\u001b[1;33m\u001b[0m\u001b[0m\n\u001b[1;32m----> 2\u001b[1;33m \u001b[0ma\u001b[0m\u001b[1;33m[\u001b[0m\u001b[0msel\u001b[0m\u001b[1;33m]\u001b[0m\u001b[1;33m\u001b[0m\u001b[1;33m\u001b[0m\u001b[0m\n\u001b[0m",
      "\u001b[1;31mIndexError\u001b[0m: only integers, slices (`:`), ellipsis (`...`), numpy.newaxis (`None`) and integer or boolean arrays are valid indices"
     ]
    }
   ],
   "source": [
    "sel=[lambda x: x>3 for x in list(a.shape)]\n",
    "a[sel]"
   ]
  },
  {
   "cell_type": "code",
   "execution_count": 50,
   "metadata": {},
   "outputs": [
    {
     "name": "stdout",
     "output_type": "stream",
     "text": [
      "[2. 2.]\n"
     ]
    }
   ],
   "source": [
    "# We use boolean array indexing to construct a rank 1 array\n",
    "# consisting of the elements of a corresponding to the True values\n",
    "# of bool_idx\n",
    "print(a[a==2])"
   ]
  },
  {
   "cell_type": "code",
   "execution_count": 51,
   "metadata": {},
   "outputs": [
    {
     "name": "stdout",
     "output_type": "stream",
     "text": [
      "[[False  True False False]\n",
      " [False False False False]\n",
      " [ True False False False]\n",
      " [False False False False]]\n"
     ]
    }
   ],
   "source": [
    "print(a==2)"
   ]
  },
  {
   "cell_type": "code",
   "execution_count": 52,
   "metadata": {},
   "outputs": [
    {
     "ename": "ValueError",
     "evalue": "The truth value of an array with more than one element is ambiguous. Use a.any() or a.all()",
     "output_type": "error",
     "traceback": [
      "\u001b[1;31m---------------------------------------------------------------------------\u001b[0m",
      "\u001b[1;31mValueError\u001b[0m                                Traceback (most recent call last)",
      "\u001b[1;32m<ipython-input-52-93b97176f1a0>\u001b[0m in \u001b[0;36m<module>\u001b[1;34m\u001b[0m\n\u001b[1;32m----> 1\u001b[1;33m \u001b[0mprint\u001b[0m\u001b[1;33m(\u001b[0m\u001b[0ma\u001b[0m\u001b[1;33m<\u001b[0m\u001b[1;36m3\u001b[0m \u001b[1;32mor\u001b[0m \u001b[0ma\u001b[0m\u001b[1;33m>\u001b[0m\u001b[1;36m40\u001b[0m\u001b[1;33m)\u001b[0m\u001b[1;33m\u001b[0m\u001b[1;33m\u001b[0m\u001b[0m\n\u001b[0m",
      "\u001b[1;31mValueError\u001b[0m: The truth value of an array with more than one element is ambiguous. Use a.any() or a.all()"
     ]
    }
   ],
   "source": [
    "print(a<3 or a>40)"
   ]
  },
  {
   "cell_type": "code",
   "execution_count": 53,
   "metadata": {},
   "outputs": [
    {
     "name": "stdout",
     "output_type": "stream",
     "text": [
      "[[ True  True  True False]\n",
      " [False False False False]\n",
      " [ True False False False]\n",
      " [False False False False]]\n"
     ]
    }
   ],
   "source": [
    "print(a<3)"
   ]
  },
  {
   "cell_type": "code",
   "execution_count": 54,
   "metadata": {},
   "outputs": [
    {
     "name": "stdout",
     "output_type": "stream",
     "text": [
      "<class 'list'> <class 'list'>\n"
     ]
    }
   ],
   "source": [
    "#com list comprehension:\n",
    "a_bool1=[x for x in a.flat if x<3 or x>40]\n",
    "a_bool=[lambda i: (i> 40 or i<3) for i in a.flat]\n",
    "print(type(a_bool),type(a_bool1))"
   ]
  },
  {
   "cell_type": "code",
   "execution_count": 100,
   "metadata": {},
   "outputs": [
    {
     "name": "stdout",
     "output_type": "stream",
     "text": [
      "[<function <listcomp>.<lambda> at 0x000001290A71CBF8>, <function <listcomp>.<lambda> at 0x000001290A71CC80>, <function <listcomp>.<lambda> at 0x000001290A71C7B8>, <function <listcomp>.<lambda> at 0x000001290A71CF28>, <function <listcomp>.<lambda> at 0x000001290A71CEA0>, <function <listcomp>.<lambda> at 0x000001290A71C048>, <function <listcomp>.<lambda> at 0x000001290A71CD90>, <function <listcomp>.<lambda> at 0x000001290A71CD08>, <function <listcomp>.<lambda> at 0x000001290A71C730>, <function <listcomp>.<lambda> at 0x000001290A71C950>, <function <listcomp>.<lambda> at 0x000001290A71C9D8>, <function <listcomp>.<lambda> at 0x00000129095A2D90>, <function <listcomp>.<lambda> at 0x00000129091AE510>, <function <listcomp>.<lambda> at 0x000001290A72E840>, <function <listcomp>.<lambda> at 0x000001290A72E488>, <function <listcomp>.<lambda> at 0x000001290A72ED90>]\n",
      "[1.0, 2.0, 0.1, 80.1, 60.0, 50.1, 2.0, 85.0, 40.1, 45.0]\n",
      "<class 'list'>\n"
     ]
    }
   ],
   "source": [
    "print(a_bool)\n",
    "print(a_bool1)\n",
    "print(type(a_bool1))"
   ]
  },
  {
   "cell_type": "code",
   "execution_count": 56,
   "metadata": {},
   "outputs": [],
   "source": [
    "selection = (a > 40) | (a < 3)"
   ]
  },
  {
   "cell_type": "code",
   "execution_count": 57,
   "metadata": {},
   "outputs": [
    {
     "data": {
      "text/plain": [
       "array([ 1. ,  2. ,  0.1, 80.1, 60. , 50.1,  2. , 85. , 40.1, 45. ])"
      ]
     },
     "execution_count": 57,
     "metadata": {},
     "output_type": "execute_result"
    }
   ],
   "source": [
    "a[selection]"
   ]
  },
  {
   "cell_type": "markdown",
   "metadata": {},
   "source": [
    "##  Erros do tipo:\n",
    "#### ValueError: The truth value of an array with more than one element is ambiguous. Use a.any() or a.all()\n",
    "#### Quando quero colocar mais de uma condição:\n",
    "- Posso selecionar elementos menores que 3 OU maiores que 40?"
   ]
  },
  {
   "cell_type": "code",
   "execution_count": 58,
   "metadata": {},
   "outputs": [
    {
     "name": "stdout",
     "output_type": "stream",
     "text": [
      "[[ 1.   2.   0.1 80.1]\n",
      " [60.   3.   4.  50.1]\n",
      " [ 2.  85.   5.   6. ]\n",
      " [39.  39.9 40.1 45. ]]\n",
      "[[ True  True  True False]\n",
      " [False False False False]\n",
      " [ True False False False]\n",
      " [False False False False]]\n",
      "[1.  2.  0.1 2. ]\n",
      "[[False False False  True]\n",
      " [ True False False  True]\n",
      " [False  True False False]\n",
      " [False False  True  True]]\n"
     ]
    }
   ],
   "source": [
    "print(a)\n",
    "print(a<3) #imprime toda a matriz booleana\n",
    "print(a[a<3]) #só imprime os elementos onde isso for verdade)\n",
    "print(a>40)"
   ]
  },
  {
   "cell_type": "markdown",
   "metadata": {},
   "source": [
    "### Quando queremos fazer um OR statement, nos deparamos com o seguinte:"
   ]
  },
  {
   "cell_type": "code",
   "execution_count": 59,
   "metadata": {},
   "outputs": [
    {
     "ename": "ValueError",
     "evalue": "The truth value of an array with more than one element is ambiguous. Use a.any() or a.all()",
     "output_type": "error",
     "traceback": [
      "\u001b[1;31m---------------------------------------------------------------------------\u001b[0m",
      "\u001b[1;31mValueError\u001b[0m                                Traceback (most recent call last)",
      "\u001b[1;32m<ipython-input-59-fe3daaebc1f8>\u001b[0m in \u001b[0;36m<module>\u001b[1;34m\u001b[0m\n\u001b[1;32m----> 1\u001b[1;33m \u001b[0ma\u001b[0m\u001b[1;33m[\u001b[0m\u001b[1;33m(\u001b[0m\u001b[0ma\u001b[0m\u001b[1;33m<\u001b[0m\u001b[1;36m3\u001b[0m \u001b[1;32mor\u001b[0m \u001b[0ma\u001b[0m\u001b[1;33m>\u001b[0m\u001b[1;36m40\u001b[0m\u001b[1;33m)\u001b[0m\u001b[1;33m]\u001b[0m\u001b[1;33m\u001b[0m\u001b[1;33m\u001b[0m\u001b[0m\n\u001b[0m",
      "\u001b[1;31mValueError\u001b[0m: The truth value of an array with more than one element is ambiguous. Use a.any() or a.all()"
     ]
    }
   ],
   "source": [
    "a[(a<3 or a>40)]"
   ]
  },
  {
   "cell_type": "markdown",
   "metadata": {},
   "source": [
    "## Solução: a[(np.logical_or a<3,a>40)]"
   ]
  },
  {
   "cell_type": "code",
   "execution_count": 60,
   "metadata": {},
   "outputs": [
    {
     "data": {
      "text/plain": [
       "array([ 1. ,  2. ,  0.1, 80.1, 60. , 50.1,  2. , 85. , 40.1, 45. ])"
      ]
     },
     "execution_count": 60,
     "metadata": {},
     "output_type": "execute_result"
    }
   ],
   "source": [
    " a[np.logical_or (a<3,a>40)]"
   ]
  },
  {
   "cell_type": "code",
   "execution_count": 61,
   "metadata": {},
   "outputs": [
    {
     "data": {
      "text/plain": [
       "array([[ True,  True,  True,  True],\n",
       "       [ True, False, False,  True],\n",
       "       [ True,  True, False, False],\n",
       "       [False, False,  True,  True]])"
      ]
     },
     "execution_count": 61,
     "metadata": {},
     "output_type": "execute_result"
    }
   ],
   "source": [
    "np.logical_or (a<3,a>40)"
   ]
  },
  {
   "cell_type": "markdown",
   "metadata": {},
   "source": [
    "### Outras seleções, no entanto, são possíveis:"
   ]
  },
  {
   "cell_type": "code",
   "execution_count": 62,
   "metadata": {},
   "outputs": [],
   "source": [
    "selection = (a > 40) | (a < 3)"
   ]
  },
  {
   "cell_type": "code",
   "execution_count": 63,
   "metadata": {},
   "outputs": [
    {
     "name": "stdout",
     "output_type": "stream",
     "text": [
      "[[ True  True  True  True]\n",
      " [ True False False  True]\n",
      " [ True  True False False]\n",
      " [False False  True  True]]\n",
      "[ 1.   2.   0.1 80.1 60.  50.1  2.  85.  40.1 45. ]\n"
     ]
    }
   ],
   "source": [
    "print(selection)\n",
    "print(a[selection])"
   ]
  },
  {
   "cell_type": "code",
   "execution_count": 64,
   "metadata": {},
   "outputs": [
    {
     "name": "stdout",
     "output_type": "stream",
     "text": [
      "[[False False False False]\n",
      " [ True False False False]\n",
      " [False False False False]\n",
      " [False False False  True]]\n"
     ]
    }
   ],
   "source": [
    "selec2= (a%3==0) & (a%5==0)\n",
    "print(selec2)"
   ]
  },
  {
   "cell_type": "code",
   "execution_count": 65,
   "metadata": {},
   "outputs": [
    {
     "data": {
      "text/plain": [
       "array([60., 45.])"
      ]
     },
     "execution_count": 65,
     "metadata": {},
     "output_type": "execute_result"
    }
   ],
   "source": [
    "a[selec2]"
   ]
  },
  {
   "cell_type": "code",
   "execution_count": 66,
   "metadata": {},
   "outputs": [
    {
     "name": "stdout",
     "output_type": "stream",
     "text": [
      "[60.  3. 85.  5.  6. 39. 45.]\n"
     ]
    }
   ],
   "source": [
    "selec2= (a%3==0) | (a%5==0)\n",
    "print(a[selec2])"
   ]
  },
  {
   "cell_type": "code",
   "execution_count": 67,
   "metadata": {},
   "outputs": [
    {
     "name": "stdout",
     "output_type": "stream",
     "text": [
      "Elements of a, which are not divisible by 3:\n",
      "[[False False False False]\n",
      " [ True  True False False]\n",
      " [False False False  True]\n",
      " [ True False False  True]]\n",
      "[60.  3.  6. 39. 45.]\n"
     ]
    }
   ],
   "source": [
    "print(\"Elements of a, which are not divisible by 3:\")\n",
    "bool3=(a%3==0) \n",
    "print(bool3)\n",
    "print(a[bool3])"
   ]
  },
  {
   "cell_type": "code",
   "execution_count": 68,
   "metadata": {},
   "outputs": [
    {
     "name": "stdout",
     "output_type": "stream",
     "text": [
      "Elements of a, which are not divisible by 3:\n",
      "[[ True  True  True  True]\n",
      " [False False  True  True]\n",
      " [ True  True  True False]\n",
      " [False  True  True False]]\n"
     ]
    },
    {
     "data": {
      "text/plain": [
       "array([ 1. ,  2. ,  0.1, 80.1,  4. , 50.1,  2. , 85. ,  5. , 39.9, 40.1])"
      ]
     },
     "execution_count": 68,
     "metadata": {},
     "output_type": "execute_result"
    }
   ],
   "source": [
    "print(\"Elements of a, which are not divisible by 3:\")\n",
    "print(a%3!=0) \n",
    "a[a%3!=0]"
   ]
  },
  {
   "cell_type": "markdown",
   "metadata": {},
   "source": [
    "### No entanto, podemos fazer tudo isso em uma linha só:"
   ]
  },
  {
   "cell_type": "code",
   "execution_count": 69,
   "metadata": {},
   "outputs": [
    {
     "name": "stdout",
     "output_type": "stream",
     "text": [
      "[80.1 60.   3.   4.  50.1 85.   5.   6.  39.  39.9 40.1 45. ]\n"
     ]
    }
   ],
   "source": [
    "print(a[a>2])"
   ]
  },
  {
   "cell_type": "markdown",
   "metadata": {},
   "source": [
    "## Array Math:\n",
    "#### available both as operator overloads and as functions in the numpy module:"
   ]
  },
  {
   "cell_type": "code",
   "execution_count": 70,
   "metadata": {},
   "outputs": [
    {
     "name": "stdout",
     "output_type": "stream",
     "text": [
      "[[ 6.  8.]\n",
      " [10. 12.]]\n",
      "[[ 6.  8.]\n",
      " [10. 12.]]\n",
      "[[-4. -4.]\n",
      " [-4. -4.]]\n",
      "[[-4. -4.]\n",
      " [-4. -4.]]\n",
      "[[ 5. 12.]\n",
      " [21. 32.]]\n",
      "[[ 5. 12.]\n",
      " [21. 32.]]\n",
      "[[0.2        0.33333333]\n",
      " [0.42857143 0.5       ]]\n",
      "[[0.2        0.33333333]\n",
      " [0.42857143 0.5       ]]\n",
      "[[1.         1.41421356]\n",
      " [1.73205081 2.        ]]\n"
     ]
    }
   ],
   "source": [
    "import numpy as np\n",
    "\n",
    "x = np.array([[1,2],[3,4]], dtype=np.float64)\n",
    "y = np.array([[5,6],[7,8]], dtype=np.float64)\n",
    "print(x + y)\n",
    "print(np.add(x, y))\n",
    "print(x - y)\n",
    "print(np.subtract(x, y))\n",
    "print(x * y)\n",
    "print(np.multiply(x, y))\n",
    "print(x / y)\n",
    "print(np.divide(x, y))\n",
    "print(np.sqrt(x))"
   ]
  },
  {
   "cell_type": "code",
   "execution_count": 71,
   "metadata": {},
   "outputs": [
    {
     "data": {
      "text/plain": [
       "array([[ 1. ,  2. ,  0.1, 80.1,  1. ,  2. ,  0.1, 80.1,  1. ,  2. ,  0.1,\n",
       "        80.1],\n",
       "       [60. ,  3. ,  4. , 50.1, 60. ,  3. ,  4. , 50.1, 60. ,  3. ,  4. ,\n",
       "        50.1],\n",
       "       [ 2. , 85. ,  5. ,  6. ,  2. , 85. ,  5. ,  6. ,  2. , 85. ,  5. ,\n",
       "         6. ],\n",
       "       [39. , 39.9, 40.1, 45. , 39. , 39.9, 40.1, 45. , 39. , 39.9, 40.1,\n",
       "        45. ]])"
      ]
     },
     "execution_count": 71,
     "metadata": {},
     "output_type": "execute_result"
    }
   ],
   "source": [
    "a3=np.hstack((a,a,a)) #coloca 3 matrizes uma do lado da outra\n",
    "a3"
   ]
  },
  {
   "cell_type": "code",
   "execution_count": 72,
   "metadata": {},
   "outputs": [
    {
     "data": {
      "text/plain": [
       "array([[ 1. ,  2. ,  0.1, 80.1],\n",
       "       [60. ,  3. ,  4. , 50.1],\n",
       "       [ 2. , 85. ,  5. ,  6. ],\n",
       "       [39. , 39.9, 40.1, 45. ],\n",
       "       [ 1. ,  2. ,  0.1, 80.1],\n",
       "       [60. ,  3. ,  4. , 50.1],\n",
       "       [ 2. , 85. ,  5. ,  6. ],\n",
       "       [39. , 39.9, 40.1, 45. ],\n",
       "       [ 1. ,  2. ,  0.1, 80.1],\n",
       "       [60. ,  3. ,  4. , 50.1],\n",
       "       [ 2. , 85. ,  5. ,  6. ],\n",
       "       [39. , 39.9, 40.1, 45. ]])"
      ]
     },
     "execution_count": 72,
     "metadata": {},
     "output_type": "execute_result"
    }
   ],
   "source": [
    "a4=np.vstack((a,a,a))\n",
    "a4"
   ]
  },
  {
   "cell_type": "markdown",
   "metadata": {},
   "source": [
    "## Broadcasting\n",
    "- Broadcasting is a powerful mechanism that allows numpy to work with arrays of different shapes when performing arithmetic operations. \n",
    "- Frequently we have a smaller array and a larger array, and we want to use the smaller array multiple times to perform some operation on the larger array.\n",
    "- For example, suppose that we want to add a constant vector to each row of a matrix. We could do it like this:"
   ]
  },
  {
   "cell_type": "code",
   "execution_count": 73,
   "metadata": {},
   "outputs": [
    {
     "name": "stdout",
     "output_type": "stream",
     "text": [
      "[[ 2  2  4]\n",
      " [ 5  5  7]\n",
      " [ 8  8 10]\n",
      " [11 11 13]]\n"
     ]
    }
   ],
   "source": [
    "# We will add the vector v to each row of the matrix x,\n",
    "# storing the result in the matrix y\n",
    "x = np.array([[1,2,3], [4,5,6], [7,8,9], [10, 11, 12]])\n",
    "v = np.array([1, 0, 1])\n",
    "y = np.empty_like(x)   # Create an empty matrix with the same shape as x\n",
    "\n",
    "# Add the vector v to each row of the matrix x with an explicit loop\n",
    "for i in range(4):\n",
    "    y[i, :] = x[i, :] + v\n",
    "print(y)"
   ]
  },
  {
   "cell_type": "markdown",
   "metadata": {},
   "source": [
    "## Isso até funciona, isso é o que a gente faz no MATLAB. Mas quando a matriz é mt grande, computar um loop explícito pode ser lento. \n",
    "- Somar um vetor v para cada linha da matriz x é equivalente a formar uma matriz vv que empilha múltiplas cópias de v e depois somar x e vv.\n",
    "### Como posso implementar esse approach?"
   ]
  },
  {
   "cell_type": "code",
   "execution_count": 74,
   "metadata": {},
   "outputs": [
    {
     "name": "stdout",
     "output_type": "stream",
     "text": [
      "[[1 0 1]\n",
      " [1 0 1]\n",
      " [1 0 1]\n",
      " [1 0 1]]\n",
      "[[ 2  2  4]\n",
      " [ 5  5  7]\n",
      " [ 8  8 10]\n",
      " [11 11 13]]\n"
     ]
    }
   ],
   "source": [
    "x = np.array([[1,2,3], [4,5,6], [7,8,9], [10, 11, 12]])\n",
    "v = np.array([1, 0, 1])\n",
    "vv = np.tile(v, (4, 1))\n",
    "print(vv) \n",
    "y=x+vv\n",
    "print(y)"
   ]
  },
  {
   "cell_type": "markdown",
   "metadata": {},
   "source": [
    "### Vejam a mágica! \n",
    "### Numpy broadcasting allows us to perform this computation without actually creating multiple copies of v. Consider this version, using broadcasting:"
   ]
  },
  {
   "cell_type": "code",
   "execution_count": 75,
   "metadata": {},
   "outputs": [
    {
     "name": "stdout",
     "output_type": "stream",
     "text": [
      "[[ 2  2  4]\n",
      " [ 5  5  7]\n",
      " [ 8  8 10]\n",
      " [11 11 13]]\n"
     ]
    }
   ],
   "source": [
    "x = np.array([[1,2,3], [4,5,6], [7,8,9], [10, 11, 12]])\n",
    "v = np.array([1, 0, 1])\n",
    "y=x+v\n",
    "print(y)"
   ]
  },
  {
   "cell_type": "markdown",
   "metadata": {},
   "source": [
    "### The line y = x + v works even though x has shape (4, 3) and v has shape (3,) due to broadcasting; this line works as if v actually had shape (4, 3), where each row was a copy of v, and the sum was performed elementwise.\n",
    "\n",
    "## Regras do broadcasting:\n",
    "\n",
    "- Funções que suportam broadcasting são chamadas funções universais.\n",
    "- If the arrays do not have the same rank, prepend the shape of the lower rank array with 1s until both shapes have the same length.\n",
    "- The two arrays are said to be compatible in a dimension if they have the same size in the dimension, or if one of the arrays has size 1 in that dimension.\n",
    "- The arrays can be broadcast together if they are compatible in all dimensions.  \n",
    "- After broadcasting, each array behaves as if it had shape equal to the elementwise maximum of shapes of the two input arrays.\n",
    "- In any dimension where one array had size 1 and the other array had size greater than 1, the first array behaves as if it were copied along that dimension"
   ]
  },
  {
   "cell_type": "code",
   "execution_count": 76,
   "metadata": {},
   "outputs": [
    {
     "name": "stdout",
     "output_type": "stream",
     "text": [
      "[[ 4  5]\n",
      " [ 8 10]\n",
      " [12 15]]\n"
     ]
    }
   ],
   "source": [
    "v = np.array([1,2,3])  # v has shape (3,)\n",
    "w = np.array([4,5])    # w has shape (2,)\n",
    "print(np.reshape(v, (3, 1)) * w)"
   ]
  },
  {
   "cell_type": "markdown",
   "metadata": {},
   "source": [
    "### Olha só que legal!"
   ]
  },
  {
   "cell_type": "code",
   "execution_count": 77,
   "metadata": {},
   "outputs": [
    {
     "name": "stdout",
     "output_type": "stream",
     "text": [
      "[[1 2 3]\n",
      " [4 5 6]]\n",
      "(3,) (2, 3)\n",
      "[[2 4 6]\n",
      " [5 7 9]]\n"
     ]
    }
   ],
   "source": [
    "x = np.array([[1,2,3], [4,5,6]])\n",
    "print(x)\n",
    "print(v.shape, x.shape)\n",
    "print(x+v)"
   ]
  },
  {
   "cell_type": "code",
   "execution_count": 78,
   "metadata": {},
   "outputs": [
    {
     "data": {
      "text/plain": [
       "array([[ 5,  9],\n",
       "       [ 6, 10],\n",
       "       [ 7, 11]])"
      ]
     },
     "execution_count": 78,
     "metadata": {},
     "output_type": "execute_result"
    }
   ],
   "source": [
    "x.T+w"
   ]
  },
  {
   "cell_type": "code",
   "execution_count": 79,
   "metadata": {},
   "outputs": [
    {
     "name": "stdout",
     "output_type": "stream",
     "text": [
      "[[ 5  6  7]\n",
      " [ 9 10 11]]\n"
     ]
    }
   ],
   "source": [
    "print(x + np.reshape(w, (2, 1)))"
   ]
  },
  {
   "cell_type": "code",
   "execution_count": 80,
   "metadata": {},
   "outputs": [
    {
     "data": {
      "text/plain": [
       "array([[ 2,  4,  6],\n",
       "       [ 8, 10, 12]])"
      ]
     },
     "execution_count": 80,
     "metadata": {},
     "output_type": "execute_result"
    }
   ],
   "source": [
    "x*2"
   ]
  },
  {
   "cell_type": "markdown",
   "metadata": {},
   "source": [
    "## Datatypes:\n",
    "#### Every numpy array is a grid of elements of the same type. \n",
    "#### Numpy provides a large set of numeric datatypes that you can use to construct arrays. \n",
    "#### Numpy tries to guess a datatype when you create an array, but functions that construct arrays usually also include an optional argument to explicitly specify the datatype. Here is an example:"
   ]
  },
  {
   "cell_type": "code",
   "execution_count": 81,
   "metadata": {},
   "outputs": [
    {
     "name": "stdout",
     "output_type": "stream",
     "text": [
      "int32\n",
      "<class 'numpy.ndarray'>\n"
     ]
    }
   ],
   "source": [
    "x1 = np.array([1, 2])   # Let numpy choose the datatype\n",
    "print(x1.dtype) #imprime o tipo dos elementos de x1\n",
    "print(type(x1)) #imprime o tipo do x1"
   ]
  },
  {
   "cell_type": "code",
   "execution_count": 82,
   "metadata": {},
   "outputs": [
    {
     "name": "stdout",
     "output_type": "stream",
     "text": [
      "float64\n"
     ]
    }
   ],
   "source": [
    "x2 = np.array([1.0, 2.0])   # Let numpy choose the datatype\n",
    "print(x2.dtype)  "
   ]
  },
  {
   "cell_type": "markdown",
   "metadata": {},
   "source": [
    "# Aqui estou 'forçando a barra' pras entradas da matriz serem inteiras"
   ]
  },
  {
   "cell_type": "code",
   "execution_count": 83,
   "metadata": {},
   "outputs": [
    {
     "name": "stdout",
     "output_type": "stream",
     "text": [
      "int64\n"
     ]
    }
   ],
   "source": [
    "x3 = np.array([1.2, 2], dtype=np.int64)   # Force a particular datatype\n",
    "print(x3.dtype)                         # Prints \"int64\""
   ]
  },
  {
   "cell_type": "code",
   "execution_count": 84,
   "metadata": {},
   "outputs": [
    {
     "name": "stdout",
     "output_type": "stream",
     "text": [
      "1 2\n"
     ]
    }
   ],
   "source": [
    "print(x3[0],x3[1])"
   ]
  },
  {
   "cell_type": "markdown",
   "metadata": {},
   "source": [
    "# Some basic stats with numpy"
   ]
  },
  {
   "cell_type": "code",
   "execution_count": 85,
   "metadata": {},
   "outputs": [
    {
     "name": "stdout",
     "output_type": "stream",
     "text": [
      "[[ 1  2  3  4]\n",
      " [ 3  4  5  6]\n",
      " [ 7  8  9  6]\n",
      " [12  7 10  9]\n",
      " [ 2 11  8 10]]\n",
      "soma total = 127\n",
      "soma por coluna = [25 32 35 35]\n",
      "soma por linha = [10 18 30 38 31]\n"
     ]
    }
   ],
   "source": [
    "arr=[[1,2,3,4],[3,4,5,6],[7,8,9,6],[12,7,10,9],[2,11,8,10]]\n",
    "narr=np.array(arr) #convert array into numpy array\n",
    "print (narr)\n",
    "\n",
    "print('soma total =',narr.sum()) #sum all values of the array\n",
    "print('soma por coluna =',narr.sum(axis=0)) #column wise sum\n",
    "print('soma por linha =',narr.sum(axis=1)) #row wise sum\n"
   ]
  },
  {
   "cell_type": "code",
   "execution_count": 86,
   "metadata": {},
   "outputs": [
    {
     "data": {
      "text/plain": [
       "array([5. , 6.4, 7. , 7. ])"
      ]
     },
     "execution_count": 86,
     "metadata": {},
     "output_type": "execute_result"
    }
   ],
   "source": [
    "#mean and medians are measures of centre tendency\n",
    "\n",
    "narr.mean(axis=0) #column means"
   ]
  },
  {
   "cell_type": "code",
   "execution_count": 87,
   "metadata": {},
   "outputs": [
    {
     "data": {
      "text/plain": [
       "array([2.5, 4.5, 7.5, 9.5, 9. ])"
      ]
     },
     "execution_count": 87,
     "metadata": {},
     "output_type": "execute_result"
    }
   ],
   "source": [
    "np.median(narr,axis=1) #row median"
   ]
  },
  {
   "cell_type": "code",
   "execution_count": 88,
   "metadata": {},
   "outputs": [
    {
     "data": {
      "text/plain": [
       "3.182373328193912"
      ]
     },
     "execution_count": 88,
     "metadata": {},
     "output_type": "execute_result"
    }
   ],
   "source": [
    "#variance in the data\n",
    "\n",
    "np.std(narr) #standard dev"
   ]
  },
  {
   "cell_type": "code",
   "execution_count": 89,
   "metadata": {},
   "outputs": [
    {
     "data": {
      "text/plain": [
       "array([2.5, 4.5, 7.5, 9.5, 9. ])"
      ]
     },
     "execution_count": 89,
     "metadata": {},
     "output_type": "execute_result"
    }
   ],
   "source": [
    "#percentile- value below which a given percentage of observations\n",
    "\n",
    "np.percentile(narr,50,axis=1) #50th percentile"
   ]
  },
  {
   "cell_type": "code",
   "execution_count": 90,
   "metadata": {},
   "outputs": [
    {
     "name": "stdout",
     "output_type": "stream",
     "text": [
      "\n",
      "Showing some basic math on arrays:\n",
      "max: 4\n",
      "max: 2.0\n",
      "max: 2\n",
      "Shape of b: (5,)\n"
     ]
    }
   ],
   "source": [
    "import numpy as np\n",
    "print(\"\\nShowing some basic math on arrays:\")\n",
    "b=np.array([0,1,4,3,2])\n",
    "print(\"max: {}\".format(np.max(b)))\n",
    "print(\"max: {}\".format(np.average(b)))\n",
    "print(\"max: {}\".format(np.argmax(b)))\n",
    "print(\"Shape of b: {}\".format(b.shape))"
   ]
  },
  {
   "cell_type": "code",
   "execution_count": 91,
   "metadata": {},
   "outputs": [
    {
     "name": "stdout",
     "output_type": "stream",
     "text": [
      "[2 2 2 1]\n",
      "[3 3 2]\n"
     ]
    }
   ],
   "source": [
    "import numpy as np\n",
    "#understand argmax\n",
    "arr3=[[1,2,3,4],[3,4,5,6],[7,8,9,6]]\n",
    "\n",
    "a=np.array(arr3)\n",
    "\n",
    "j=np.argmax(a,axis=0) #vai buscar por coluna a posicao do primeiro elemento que for o maior de todos\n",
    "k=np.argmax(a,axis=1) #vai buscar por linha a posicao do primeiro elemento que for o maior de todos\n",
    "print(j)\n",
    "print(k)"
   ]
  },
  {
   "cell_type": "code",
   "execution_count": 92,
   "metadata": {},
   "outputs": [
    {
     "name": "stdout",
     "output_type": "stream",
     "text": [
      "\n",
      "You can print the type of anything\n",
      "Type of b: <class 'numpy.ndarray'>, type of b[0]: <class 'numpy.int32'>\n"
     ]
    }
   ],
   "source": [
    "print(\"\\nYou can print the type of anything\")\n",
    "print(\"Type of b: {}, type of b[0]: {}\".format(type(b), type(b[0]))) #string.format(valores)"
   ]
  },
  {
   "cell_type": "code",
   "execution_count": 93,
   "metadata": {},
   "outputs": [
    {
     "name": "stdout",
     "output_type": "stream",
     "text": [
      "\n",
      "Use numpy to create a [3,3] dimension array with random number\n",
      "[[0.82296193 0.19222669 0.57636306]\n",
      " [0.12279445 0.28427326 0.05498262]\n",
      " [0.75429158 0.47869862 0.01250949]]\n"
     ]
    }
   ],
   "source": [
    "print(\"\\nUse numpy to create a [3,3] dimension array with random number\")\n",
    "c = np.random.rand(3, 3)\n",
    "print(c)"
   ]
  },
  {
   "cell_type": "code",
   "execution_count": 94,
   "metadata": {},
   "outputs": [
    {
     "name": "stdout",
     "output_type": "stream",
     "text": [
      "\n",
      "You can print the dimensions of arrays\n",
      "Shape of a: (3, 4)\n",
      "Shape of b: (5,)\n",
      "Shape of c: (3, 3)\n",
      "...Observe, Python uses both [0,1,2] and (0,1,2) to specify lists\n"
     ]
    }
   ],
   "source": [
    "print(\"\\nYou can print the dimensions of arrays\")\n",
    "print(\"Shape of a: {}\".format(a.shape))\n",
    "print(\"Shape of b: {}\".format(b.shape))\n",
    "print(\"Shape of c: {}\".format(c.shape))\n",
    "print(\"...Observe, Python uses both [0,1,2] and (0,1,2) to specify lists\")"
   ]
  },
  {
   "cell_type": "code",
   "execution_count": 95,
   "metadata": {},
   "outputs": [
    {
     "name": "stdout",
     "output_type": "stream",
     "text": [
      "[0 1 4 3 2]\n",
      "<class 'numpy.ndarray'>\n"
     ]
    }
   ],
   "source": [
    "print(b)\n",
    "print(type(b))"
   ]
  },
  {
   "cell_type": "code",
   "execution_count": 96,
   "metadata": {},
   "outputs": [
    {
     "name": "stdout",
     "output_type": "stream",
     "text": [
      "[[1 2 3 4]\n",
      " [3 4 5 6]\n",
      " [7 8 9 6]]\n",
      "<class 'numpy.ndarray'>\n"
     ]
    }
   ],
   "source": [
    "print(a)\n",
    "print(type(a))"
   ]
  },
  {
   "cell_type": "code",
   "execution_count": 97,
   "metadata": {},
   "outputs": [
    {
     "name": "stdout",
     "output_type": "stream",
     "text": [
      "[[0.82296193 0.19222669 0.57636306]\n",
      " [0.12279445 0.28427326 0.05498262]\n",
      " [0.75429158 0.47869862 0.01250949]]\n",
      "<class 'numpy.ndarray'>\n"
     ]
    }
   ],
   "source": [
    "print(c)\n",
    "print(type(c))"
   ]
  }
 ],
 "metadata": {
  "kernelspec": {
   "display_name": "Python 3",
   "language": "python",
   "name": "python3"
  },
  "language_info": {
   "codemirror_mode": {
    "name": "ipython",
    "version": 3
   },
   "file_extension": ".py",
   "mimetype": "text/x-python",
   "name": "python",
   "nbconvert_exporter": "python",
   "pygments_lexer": "ipython3",
   "version": "3.7.3"
  }
 },
 "nbformat": 4,
 "nbformat_minor": 2
}
